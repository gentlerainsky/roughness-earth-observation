{
 "cells": [
  {
   "cell_type": "code",
   "execution_count": 2,
   "id": "0a2ef6d4",
   "metadata": {},
   "outputs": [],
   "source": [
    "import numpy as np"
   ]
  },
  {
   "cell_type": "markdown",
   "id": "8c5347db",
   "metadata": {},
   "source": [
    "- \n",
    "- Dataset"
   ]
  },
  {
   "cell_type": "markdown",
   "id": "664819ab",
   "metadata": {},
   "source": [
    "```python\n",
    "# dataset holds the datacube\n",
    "ds\n",
    "# access to a data array with dictionary\n",
    "ds[\"air\"]\n",
    "# usually refer to the spatial dimensions and time\n",
    "ds.air.dims\n",
    "# a simple data container for coordinate variables.\n",
    "ds.air.coords\n",
    "# datacube meta data\n",
    "ds.air.attrs\n",
    "# underlying data (e.g. numpy array)\n",
    "ds.air.data\n",
    "# what is the type of the underlying data\n",
    "type(ds.air.data)\n",
    "\n",
    "# plot\n",
    "# Without xarray\n",
    "lat = ds.air.lat.data  # numpy array\n",
    "lon = ds.air.lon.data  # numpy array\n",
    "temp = ds.air.data  # numpy array\n",
    "plt.figure()\n",
    "plt.pcolormesh(lon, lat, temp[0, :, :]);\n",
    "\n",
    "# With xarray\n",
    "ds.air.isel(time=0).plot(x=\"lon\");\n",
    "# Use dimension names instead of axis numbers\n",
    "ds.air.mean(dim=\"time\").plot(x=\"lon\")\n",
    "\n",
    "# label-based indexing using .sel\n",
    "# pull out data for all of 2013-May\n",
    "ds.sel(time=\"2013-05\")\n",
    "# demonstrate slicing\n",
    "ds.sel(time=slice(\"2013-05\", \"2013-07\"))\n",
    "ds.sel(time=\"2013\")\n",
    "# demonstrate \"nearest\" indexing\n",
    "ds.sel(lon=240.2, method=\"nearest\")\n",
    "# \"nearest indexing at multiple points\"\n",
    "ds.sel(lon=[240.125, 234], lat=[40.3, 50.3], method=\"nearest\")\n",
    "\n",
    "# position-based indexing using .isel\n",
    "# from using simple index\n",
    "ds.air.data[0, 2, 3]\n",
    "# pull out time index 0, lat index 2, and lon index 3\n",
    "ds.air.isel(time=0, lat=2, lon=3)  #  much better than ds.air[0, 2, 3]\n",
    "# demonstrate slicing\n",
    "ds.air.isel(lat=slice(10))\n",
    "\n",
    "```"
   ]
  },
  {
   "cell_type": "markdown",
   "id": "3ee06db0",
   "metadata": {},
   "source": [
    "## Concepts for computation\n",
    "\n",
    "Consider calculating the *mean air temperature per unit surface area* for this dataset. Because latitude and longitude correspond to spherical coordinates for Earth's surface, each 2.5x2.5 degree grid cell actually has a different surface area as you move away from the equator! This is because *latitudinal length* is fixed ($ \\delta Lat = R \\delta \\phi  $), but *longitudinal length varies with latitude* ($ \\delta Lon = R \\delta \\lambda \\cos(\\phi) $)\n",
    "\n",
    "So the [area element for lat-lon coordinates](https://en.wikipedia.org/wiki/Spherical_coordinate_system#Integration_and_differentiation_in_spherical_coordinates) is\n",
    "\n",
    "\n",
    "$$ \\delta A = R^2 \\delta\\phi \\, \\delta\\lambda \\cos(\\phi) $$\n",
    "\n",
    "where $\\phi$ is latitude, $\\delta \\phi$ is the spacing of the points in latitude, $\\delta \\lambda$ is the spacing of the points in longitude, and $R$ is Earth's radius. (In this formula, $\\phi$ and $\\lambda$ are measured in radians)"
   ]
  },
  {
   "cell_type": "markdown",
   "id": "6689d2fa",
   "metadata": {},
   "source": [
    "```python\n",
    "# Earth's average radius in meters\n",
    "R = 6.371e6\n",
    "\n",
    "# Coordinate spacing for this dataset is 2.5 x 2.5 degrees\n",
    "dϕ = np.deg2rad(2.5)\n",
    "dλ = np.deg2rad(2.5)\n",
    "\n",
    "dlat = R * dϕ * xr.ones_like(ds.air.lon)\n",
    "dlon = R * dλ * np.cos(np.deg2rad(ds.air.lat))\n",
    "```"
   ]
  },
  {
   "cell_type": "markdown",
   "id": "cdadcb6f",
   "metadata": {},
   "source": [
    "There are two concepts here:\n",
    "\n",
    "you can call functions like np.cos and np.deg2rad (\"numpy ufuncs\") on Xarray objects and receive an Xarray object back.\n",
    "We used ones_like to create a DataArray that looks like ds.air.lon in all respects, except that the data are all ones"
   ]
  },
  {
   "cell_type": "markdown",
   "id": "6d16620f",
   "metadata": {},
   "source": [
    "```python\n",
    "# returns an xarray DataArray!\n",
    "np.cos(np.deg2rad(ds.lat))\n",
    "# area\n",
    "cell_area = dlon * dlat\n",
    "cell_area\n",
    "```\n",
    "\n",
    "Tip: If you notice extra NaNs or missing points after xarray computation, it means that your xarray coordinates were not aligned exactly.\n",
    "\n",
    "For more, see\n",
    "[the Xarray documentation](https://docs.xarray.dev/en/stable/user-guide/computation.html#automatic-alignment). [This tutorial notebook](https://tutorial.xarray.dev/fundamentals/02.3_aligning_data_objects.html) also covers alignment and broadcasting (*highly recommended*)\n",
    "\n",
    "To make sure variables are aligned as you think they are, do the following:\n",
    "\n",
    "```python\n",
    "xr.align(cell_area_bad, ds.air, join=\"exact\")\n",
    "```"
   ]
  },
  {
   "cell_type": "markdown",
   "id": "e5c1b6dc",
   "metadata": {},
   "source": [
    "Xarray has some very useful high level objects that let you do common\n",
    "computations:\n",
    "\n",
    "1. `groupby` :\n",
    "   [Bin data in to groups and reduce](https://docs.xarray.dev/en/stable/groupby.html)\n",
    "1. `resample` :\n",
    "   [Groupby specialized for time axes. Either downsample or upsample your data.](https://docs.xarray.dev/en/stable/user-guide/time-series.html#resampling-and-grouped-operations)\n",
    "1. `rolling` :\n",
    "   [Operate on rolling windows of your data e.g. running mean](https://docs.xarray.dev/en/stable/user-guide/computation.html#rolling-window-operations)\n",
    "1. `coarsen` :\n",
    "   [Downsample your data](https://docs.xarray.dev/en/stable/user-guide/computation.html#coarsen-large-arrays)\n",
    "1. `weighted` :\n",
    "   [Weight your data before reducing](https://docs.xarray.dev/en/stable/user-guide/computation.html#weighted-array-reductions)\n"
   ]
  },
  {
   "cell_type": "markdown",
   "id": "6d69150e",
   "metadata": {},
   "source": [
    "```python\n",
    "# groupby\n",
    "ds.groupby(\"time.season\")\n",
    "seasonal_mean = ds.groupby(\"time.season\").mean()\n",
    "\n",
    "# The seasons are out of order (they are alphabetically sorted).\n",
    "# This is a common annoyance. The solution is to use .sel to change the order of labels\n",
    "# \"DJF\" = Dec, Jan, Feb\n",
    "seasonal_mean = seasonal_mean.sel(season=[\"DJF\", \"MAM\", \"JJA\", \"SON\"])\n",
    "# resample to monthly frequency\n",
    "ds.resample(time=\"M\").mean()\n",
    "# weight by cell_area and take mean over (time, lon)\n",
    "ds.weighted(cell_area).mean([\"lon\", \"time\"]).air.plot(y=\"lat\");\n",
    "```"
   ]
  },
  {
   "cell_type": "markdown",
   "id": "ef10ca4e",
   "metadata": {},
   "source": [
    "## Plotting\n",
    "\n",
    "```python\n",
    "# facet the seasonal_mean\n",
    "seasonal_mean.air.plot(col=\"season\", col_wrap=2);\n",
    "# contours\n",
    "seasonal_mean.air.plot.contour(col=\"season\", levels=20, add_colorbar=True);\n",
    "# line plots too? wut\n",
    "seasonal_mean.air.mean(\"lon\").plot.line(hue=\"season\", y=\"lat\");\n",
    "```"
   ]
  },
  {
   "cell_type": "markdown",
   "id": "ccd58bd4",
   "metadata": {},
   "source": [
    "```python\n",
    "# write to netCDF\n",
    "ds.to_netcdf(\"my-example-dataset.nc\")\n",
    "# read from disk\n",
    "fromdisk = xr.open_dataset(\"my-example-dataset.nc\")\n",
    "# check that the two are identical\n",
    "ds.identical(fromdisk)\n",
    "# convert to pandas dataframe\n",
    "df = ds.isel(time=slice(10)).to_dataframe()\n",
    "# convert dataframe to xarray\n",
    "df.to_xarray()\n",
    "```"
   ]
  },
  {
   "cell_type": "markdown",
   "id": "16051343",
   "metadata": {},
   "source": [
    "## Using Dask\n",
    "```python\n",
    "# demonstrate dask dataset\n",
    "dasky = xr.tutorial.open_dataset(\n",
    "    \"air_temperature\",\n",
    "    chunks={\"time\": 10},  # 10 time steps in each block\n",
    ")\n",
    "\n",
    "dasky.air\n",
    "# demonstrate lazy mean\n",
    "dasky.air.mean(\"lat\")\n",
    "# \"compute\" the mean\n",
    "dasky.air.mean(\"lat\").compute()\n",
    "```"
   ]
  },
  {
   "cell_type": "markdown",
   "id": "58546544",
   "metadata": {},
   "source": [
    "## HoloViz\n",
    "Quickly generate interactive plots from your data!\n",
    "\n",
    "The [`hvplot` package](https://hvplot.holoviz.org/user_guide/Gridded_Data.html) attaches itself to all\n",
    "xarray objects under the `.hvplot` namespace. So instead of using `.plot` use `.hvplot`\n",
    "\n",
    "\n",
    "```python\n",
    "import hvplot.xarray\n",
    "\n",
    "ds.air.hvplot(groupby=\"time\", clim=(270, 300), widget_location='bottom')\n",
    "```"
   ]
  },
  {
   "cell_type": "markdown",
   "id": "fe9f3ed9",
   "metadata": {},
   "source": [
    "### cf_xarray \n",
    "\n",
    "[cf_xarray](https://cf-xarray.readthedocs.io/) is a project that tries to\n",
    "let you make use of other CF attributes that xarray ignores. It attaches itself\n",
    "to all xarray objects under the `.cf` namespace.\n",
    "\n",
    "Where xarray allows you to specify dimension names for analysis, `cf_xarray`\n",
    "lets you specify logical names like `\"latitude\"` or `\"longitude\"` instead as\n",
    "long as the appropriate CF attributes are set.\n",
    "\n",
    "For example, the `\"longitude\"` dimension in different files might be labelled as: (lon, LON, long, x…), but cf_xarray let's you always refer to the logical name `\"longitude\"` in your code:"
   ]
  },
  {
   "cell_type": "markdown",
   "id": "cb00edf1",
   "metadata": {},
   "source": [
    "The following `mean` operation will work with any dataset that has appropriate\n",
    "attributes set that allow detection of the \"latitude\" variable (e.g.\n",
    "`units: \"degress_north\"` or `standard_name: \"latitude\"`)\n"
   ]
  },
  {
   "cell_type": "markdown",
   "id": "2b2f8961",
   "metadata": {},
   "source": [
    "```python\n",
    "import cf_xarray\n",
    "# describe cf attributes in dataset\n",
    "ds.air.cf\n",
    "# demonstrate equivalent of .mean(\"lat\")\n",
    "ds.air.cf.mean(\"latitude\")\n",
    "# demonstrate indexing\n",
    "ds.air.cf.sel(longitude=242.5, method=\"nearest\")\n",
    "```"
   ]
  },
  {
   "cell_type": "markdown",
   "id": "6fc3cd8f",
   "metadata": {},
   "source": [
    "### Other cool packages\n",
    "\n",
    "- [xgcm](https://xgcm.readthedocs.io/) : grid-aware operations with xarray\n",
    "  objects\n",
    "- [xrft](https://xrft.readthedocs.io/) : fourier transforms with xarray\n",
    "- [xclim](https://xclim.readthedocs.io/) : calculating climate indices with\n",
    "  xarray objects\n",
    "- [intake-xarray](https://intake-xarray.readthedocs.io/) : forget about file\n",
    "  paths\n",
    "- [rioxarray](https://corteva.github.io/rioxarray/stable/index.html) : raster\n",
    "  files and xarray\n",
    "- [xesmf](https://xesmf.readthedocs.io/) : regrid using ESMF\n",
    "- [MetPy](https://unidata.github.io/MetPy/latest/index.html) : tools for working\n",
    "  with weather data\n",
    "\n",
    "Check the Xarray [Ecosystem](https://docs.xarray.dev/en/stable/ecosystem.html) page and [this tutorial](https://tutorial.xarray.dev/intermediate/xarray_ecosystem.html) for even more packages and demonstrations."
   ]
  },
  {
   "cell_type": "markdown",
   "id": "b21b0bfa",
   "metadata": {},
   "source": [
    "## Next\n",
    "\n",
    "1. Read the [tutorial](https://tutorial.xarray.dev) material and [user guide](https://docs.xarray.dev/en/stable/user-guide/index.html)\n",
    "1. See the description of [common terms](https://docs.xarray.dev/en/stable/terminology.html) used in the xarray documentation: \n",
    "1. Answers to common questions on \"how to do X\" with Xarray are [here](https://docs.xarray.dev/en/stable/howdoi.html)\n",
    "1. Ryan Abernathey has a book on data analysis with a [chapter on Xarray](https://earth-env-data-science.github.io/lectures/xarray/xarray_intro.html)\n",
    "1. [Project Pythia](https://projectpythia.org/) has [foundational](https://foundations.projectpythia.org/landing-page.html) and more [advanced](https://cookbooks.projectpythia.org/) material on Xarray. Pythia also aggregates other [Python learning resources](https://projectpythia.org/resource-gallery.html).\n",
    "1. The [Xarray Github Discussions](https://github.com/pydata/xarray/discussions) and [Pangeo Discourse](https://discourse.pangeo.io/) are good places to ask questions.\n",
    "1. Tell your friends! Tweet!\n"
   ]
  },
  {
   "cell_type": "code",
   "execution_count": null,
   "id": "ef230c6f",
   "metadata": {},
   "outputs": [],
   "source": []
  }
 ],
 "metadata": {
  "kernelspec": {
   "display_name": "Python 3 (ipykernel)",
   "language": "python",
   "name": "python3"
  },
  "language_info": {
   "codemirror_mode": {
    "name": "ipython",
    "version": 3
   },
   "file_extension": ".py",
   "mimetype": "text/x-python",
   "name": "python",
   "nbconvert_exporter": "python",
   "pygments_lexer": "ipython3",
   "version": "3.10.8"
  }
 },
 "nbformat": 4,
 "nbformat_minor": 5
}
